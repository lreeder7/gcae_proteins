{
 "cells": [
  {
   "cell_type": "code",
   "execution_count": null,
   "id": "2b3575bf",
   "metadata": {},
   "outputs": [],
   "source": [
    "from forecasting_main import Config, Trainer"
   ]
  },
  {
   "cell_type": "code",
   "execution_count": null,
   "id": "cedcf7e8",
   "metadata": {},
   "outputs": [],
   "source": [
    "dataset = 'latent_traj'\n",
    "data_path = '../gcae_experiments/transformer/10smoothing_600ep_0.0005lr_0.1dr_3layers_10edge_4latentdim_1e-06reg_1e-06temp_4nheads_2encoderlayers_512maxseqlen/'\n",
    "latent_filename = 'recomputed_test_latents.pt'\n",
    "time_lag = 1\n",
    "stride = 1\n",
    "latent_dim = 4\n",
    "hidden_dim = 512\n",
    "num_layers = 5\n",
    "random_time_sampling = False\n",
    "shuffle_batch = True\n",
    "load_path = None\n",
    "sigma_coef = 1.0\n",
    "beta_fn = 't^2'\n",
    "debug = False\n",
    "sample_only = False\n",
    "overfit = False"
   ]
  },
  {
   "cell_type": "code",
   "execution_count": null,
   "id": "8ed6d700",
   "metadata": {},
   "outputs": [],
   "source": [
    "#if dataset == 'latent_traj':\n",
    "conf = Config(\n",
    "    dataset=dataset,\n",
    "    debug=debug,\n",
    "    overfit=overfit,\n",
    "    sigma_coef=sigma_coef,\n",
    "    beta_fn=beta_fn,\n",
    "    latent_dim=latent_dim,\n",
    "    hidden_dim=hidden_dim,\n",
    "    num_layers=num_layers,\n",
    "    data_path=data_path,\n",
    "    latent_filename=latent_filename,\n",
    "    time_lag=time_lag,\n",
    "    stride=stride,\n",
    "    random_time_sampling=random_time_sampling,\n",
    "    shuffle_batch=shuffle_batch\n",
    ")\n",
    "\n",
    "trainer = Trainer(\n",
    "    conf, \n",
    "    load_path = load_path,\n",
    "    sample_only = sample_only\n",
    ")"
   ]
  },
  {
   "cell_type": "code",
   "execution_count": null,
   "id": "4cad3c94",
   "metadata": {},
   "outputs": [],
   "source": [
    "trainer.fit()"
   ]
  },
  {
   "cell_type": "code",
   "execution_count": null,
   "id": "9baad58e",
   "metadata": {},
   "outputs": [],
   "source": []
  }
 ],
 "metadata": {
  "kernelspec": {
   "display_name": "gvp-env",
   "language": "python",
   "name": "python3"
  },
  "language_info": {
   "codemirror_mode": {
    "name": "ipython",
    "version": 3
   },
   "file_extension": ".py",
   "mimetype": "text/x-python",
   "name": "python",
   "nbconvert_exporter": "python",
   "pygments_lexer": "ipython3",
   "version": "3.9.21"
  }
 },
 "nbformat": 4,
 "nbformat_minor": 5
}
